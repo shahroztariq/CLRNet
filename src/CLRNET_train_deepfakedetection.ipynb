{
 "cells": [
  {
   "cell_type": "markdown",
   "metadata": {},
   "source": [
    "\n",
    "# train_deepfakedetection\n",
    "### Import Python Packages\n"
   ]
  },
  {
   "cell_type": "code",
   "execution_count": 1,
   "metadata": {
    "pycharm": {
     "is_executing": false,
     "name": "#%%\n"
    }
   },
   "outputs": [],
   "source": [
    "from tensorflow.python.keras.backend import clear_session\n",
    "from tensorflow.python.keras.callbacks import ModelCheckpoint, CSVLogger\n",
    "from tensorflow.python.keras.preprocessing.image import ImageDataGenerator\n",
    "from tensorflow.python.keras.utils import Sequence, to_categorical\n",
    "from tensorflow.python.keras.utils.layer_utils import print_summary\n",
    "from tensorflow.python.keras.optimizers import Adam\n",
    "from tensorflow.python.keras.models import load_model\n",
    "\n",
    "print(\"yolo\")\n",
    "import os\n",
    "\n",
    "import glob\n",
    "import re\n",
    "\n",
    "import numpy as np\n",
    "import shutil\n",
    "from CLRNet_convlstm import CLRNet\n",
    "from Utility_functions import create_sequence\n",
    "from DFVDSequence import DFVDSequence\n",
    "from PIL import Image\n",
    "import random\n",
    "from sklearn.utils import class_weight\n",
    "from datetime import datetime as dt\n",
    "import natsort\n",
    "import matplotlib.pyplot as plt\n",
    "import cv2\n",
    "random.seed(32)\n",
    "dataset_dir='DeepFakeDatasetReal'\n",
    "import ipykernel\n",
    "import os\n",
    "from sklearn.preprocessing import MinMaxScaler\n",
    "import tensorflow as tf\n",
    "from tensorflow.keras import backend as K\n",
    "\n",
    "os.environ[\"CUDA_DEVICE_ORDER\"]=\"PCI_BUS_ID\";\n",
    " \n",
    "# Choose GPU NUMBERS [0, 1, 2, 3]\n",
    "os.environ[\"CUDA_VISIBLE_DEVICES\"]=\"1\"\n",
    "\n",
    "config = tf.ConfigProto()\n",
    "config.gpu_options.allow_growth = True\n",
    "sess = tf.Session(config=config)\n",
    "K.set_session(sess)\n",
    "sess.run(tf.global_variables_initializer())"
   ]
  },
  {
   "cell_type": "markdown",
   "metadata": {
    "pycharm": {
     "name": "#%% md\n"
    }
   },
   "source": [
    "# Data Loaders"
   ]
  },
  {
   "cell_type": "code",
   "execution_count": 2,
   "metadata": {
    "pycharm": {
     "is_executing": false,
     "name": "#%%\n"
    }
   },
   "outputs": [],
   "source": [
    "train_video_per_batch=16\n",
    "val_video_per_batch=16\n",
    "test_video_per_batch=16\n",
    "frames_per_video=80 #total frames\n",
    "frames_per_video_per_batch=5 #frames in one batch\n",
    "image_size=240\n",
    "\n",
    "channel=3\n",
    "X_train,y_train, class_weights_train =create_sequence('datasets/DeepFakeDetection/train/',frames_per_video_per_batch,frames_per_video)\n",
    "X_val,y_val,class_weights_val=create_sequence('datasets/DeepFakeDetection/val/',frames_per_video_per_batch,frames_per_video)\n",
    "# X_test,y_test,class_weights_test=create_sequence('datasets/Deepfakes/test/',frames_per_video_per_batch,frames_per_video)\n",
    "train_it=DFVDSequence(X_train,y_train,train_video_per_batch,frames_per_video_per_batch,image_size,True)\n",
    "val_it=DFVDSequence(X_val,y_val,val_video_per_batch,frames_per_video_per_batch,image_size,False)\n",
    "# test_it=DFVDSequence(X_test,y_test,test_video_per_batch,frames_per_video_per_batch,image_size)\n",
    "\n",
    "fig=plt.figure(figsize=(10, 100))\n",
    "columns = 4\n",
    "rows = 23\n",
    "\n",
    "print(\"Training\")\n",
    "x=1\n",
    "temp=train_it.__getitem__(1)\n",
    "fig.add_subplot(rows, columns, x)\n",
    "print(\"Min:\",np.array(temp[0][0,0]).min(),\"Max:\",np.array(temp[0][0,0]).max())\n",
    "print(\"Min:\",np.array(temp[0][1,0]).min(),\"Max:\",np.array(temp[0][1,0]).max())\n",
    "plt.imshow(np.array(temp[0][0,0]))\n",
    "fig.add_subplot(rows, columns, x+1)\n",
    "plt.imshow(np.array(temp[0][1,0]))\n",
    "print(temp[0].shape,temp[1].shape,train_it.dataset_size,train_it.frame_counter,train_it.__len__(),temp[1][0],temp[1][1])\n",
    "# x+=2\n",
    "plt.title(\"Training Set Examples\")        \n",
    "plt.show()\n",
    "train_it.on_epoch_end()\n",
    "fig=plt.figure(figsize=(10, 100))\n",
    "columns = 4\n",
    "rows = 23\n",
    "\n",
    "print(\"Validation\")\n",
    "x=1\n",
    "temp=val_it.__getitem__(1)\n",
    "fig.add_subplot(rows, columns, x)\n",
    "print(\"Min:\",np.array(temp[0][0,0]).min(),\"Max:\",np.array(temp[0][0,0]).max())\n",
    "print(\"Min:\",np.array(temp[0][1,0]).min(),\"Max:\",np.array(temp[0][1,0]).max())\n",
    "plt.imshow(np.array(temp[0][0,0]),)\n",
    "fig.add_subplot(rows, columns, x+1)\n",
    "plt.imshow(np.array(temp[0][1,0]))\n",
    "print(temp[0].shape,temp[1].shape,val_it.dataset_size,val_it.frame_counter,val_it.__len__(),temp[1][0],temp[1][1])\n",
    "plt.title(\"Validation Set Examples\")   \n",
    "plt.show()\n",
    "val_it.on_epoch_end()\n",
    "                                                                                                            "
   ]
  },
  {
   "cell_type": "markdown",
   "metadata": {},
   "source": [
    "# Model Compile"
   ]
  },
  {
   "cell_type": "code",
   "execution_count": 3,
   "metadata": {
    "pycharm": {
     "is_executing": false,
     "name": "#%%\n"
    }
   },
   "outputs": [],
   "source": [
    "model=CLRNet(input_shape=(frames_per_video_per_batch,image_size, image_size, channel), classes=2, block='bottleneck', residual_unit='v2',\n",
    "           repetitions=[3, 4, 6, 3], initial_filters=64, activation='softmax', include_top=False,\n",
    "           input_tensor=None, dropout=0.25, transition_dilation_rate=(1, 1),\n",
    "           initial_strides=(2, 2), initial_kernel_size=(7, 7), initial_pooling='max',\n",
    "           final_pooling=None, top='classification')\n",
    "print_summary(model, line_length=150, positions=None, print_fn=None)\n"
   ]
  },
  {
   "cell_type": "code",
   "execution_count": 4,
   "metadata": {},
   "outputs": [],
   "source": [
    "adam_fine = Adam(lr=0.00005, beta_1=0.9, beta_2=0.999, epsilon=None, decay=0.0, amsgrad=False)\n",
    "model.compile(loss='binary_crossentropy',\n",
    "                  optimizer=adam_fine,\n",
    "                  metrics=['accuracy'])\n",
    "# os.environ[\"CUDA_DEVICE_ORDER\"]=\"PCI_BUS_ID\";\n",
    "# Choose GPU NUMBERS [0, 1, 2, 3]\n",
    "# os.environ[\"CUDA_VISIBLE_DEVICES\"]=\"2\"\n",
    "# config = tf.ConfigProto()\n",
    "# config.gpu_options.allow_growth = True\n",
    "# sess = tf.Session(config=config)\n",
    "# K.set_session(sess)\n",
    "# _id = dt.now().strftime(\"%y-%m-%d-%H_%M\")\n",
    "# os.path.join('models','df_CLRNet50(bk)_',_id)\n",
    "_id = dt.now().strftime(\"%y-%m-%d-%H_%M\")\n",
    "save_dir=os.path.join(os.getcwd(),'models','DeepFakeDetection','CLRNet',_id)\n",
    "if not os.path.exists(save_dir):\n",
    "    os.makedirs(save_dir)\n",
    "\n",
    "\n",
    "filepath=os.path.join(save_dir,\"{epoch:02d}-{acc:.2f}\"+\".hdf5\")\n",
    "checkpoint = ModelCheckpoint(filepath)#, monitor='acc', verbose=2, save_best_only=True, mode='max')\n",
    "csv_logger = CSVLogger(os.path.join(save_dir,\"training.csv\"), append=True, separator=',')\n",
    "\n",
    "# filepath=os.path.join('models','df_CLRNet50(bk)_'+_id+\"-{epoch:02d}-{acc:.2f}\"\n",
    "# checkpoint = ModelCheckpoint(str(filepath)+\".hdf5\")#, monitor='acc', verbose=2, save_best_only=True, mode='max')\n",
    "# csv_logger = CSVLogger('df_CLRNet50(bk)_'+str(_id)+\".csv\", append=True, separator=',')\n",
    "# earlyStop=EarlyStopping(monitor='val_loss', min_delta=0, patience=0, verbose=0, mode='auto', baseline=None, restore_best_weights=False)\n",
    "callbacks_list = [checkpoint,csv_logger]\n"
   ]
  },
  {
   "cell_type": "markdown",
   "metadata": {},
   "source": [
    "# Training"
   ]
  },
  {
   "cell_type": "code",
   "execution_count": null,
   "metadata": {
    "pycharm": {
     "is_executing": false,
     "name": "#%%\n"
    },
    "scrolled": true
   },
   "outputs": [],
   "source": [
    "model.fit_generator(generator=train_it, validation_data=val_it,epochs=300,\n",
    "                    callbacks=callbacks_list,shuffle=False,class_weight=class_weights_train,verbose=1)"
   ]
  },
  {
   "cell_type": "markdown",
   "metadata": {},
   "source": [
    "## load model from file"
   ]
  },
  {
   "cell_type": "code",
   "execution_count": null,
   "metadata": {
    "pycharm": {
     "is_executing": true,
     "name": "#%%\n"
    }
   },
   "outputs": [],
   "source": [
    "model = load_model('models/NeuralTexture/CLRNet50(bk)/20-01-06-03_20/05-0.98.hdf5')\n",
    "adam_fine = Adam(lr=0.00005, beta_1=0.9, beta_2=0.999, epsilon=None, decay=0.0, amsgrad=False)\n",
    "model.compile(loss='binary_crossentropy',\n",
    "                  optimizer=adam_fine,\n",
    "                  metrics=['accuracy'])\n"
   ]
  },
  {
   "cell_type": "code",
   "execution_count": null,
   "metadata": {},
   "outputs": [],
   "source": [
    "model.fit_generator(generator=train_it, validation_data=val_it,epochs=300,initial_epoch=5,\n",
    "                    callbacks=callbacks_list,shuffle=False,class_weight=class_weights_train,verbose=1)"
   ]
  },
  {
   "cell_type": "markdown",
   "metadata": {},
   "source": [
    "\n",
    "# test Model\n"
   ]
  },
  {
   "cell_type": "code",
   "execution_count": null,
   "metadata": {
    "pycharm": {
     "is_executing": true,
     "name": "#%%\n"
    },
    "scrolled": true
   },
   "outputs": [],
   "source": [
    "\n",
    "X_test,y_test,class_weights_test=create_sequence('datasets/Deepfakes/test/',frames_per_video_per_batch,frames_per_video)\n",
    "test_it=DFVDSequence(X_test,y_test,test_video_per_batch,frames_per_video_per_batch)\n",
    "# for i in range(0,test_it.__len__()):\n",
    "#     temp=test_it.__getitem__(1)\n",
    "#     print(temp[0].shape,temp[1].shape,test_it.dataset_size,test_it.frame_counter)\n",
    "# # model.load_weights('2019-11-01_16.57.45_weights-improvement-01-1.00.hdf5')\n",
    "# model.compile(loss='binary_crossentropy',\n",
    "#                   optimizer='adam',\n",
    "#                   metrics=['accuracy'])\n",
    "print(model.evaluate_generator(test_it))\n",
    "test_it=DFVDSequence(X_test,y_test,test_video_per_batch,frames_per_video_per_batch)\n",
    "y_prob=model.predict_generator(test_it)\n",
    "y_classes = y_prob.argmax(axis=-1)\n",
    "print(y_classes)\n",
    "y_prob=model.predict_generator(test_it)\n",
    "y_classes = y_prob.argmax(axis=-1)\n",
    "print(y_classes)\n",
    "# print('test loss:',loss)\n",
    "# model=cl_basic(128,128,3,2)\n",
    "# print_summary(model, line_length=150, positions=None, print_fn=None)\n",
    "# model.compile(loss='binary_crossentropy',\n",
    "#                   optimizer='adam',\n",
    "#                   metrics=['accuracy'])"
   ]
  },
  {
   "cell_type": "code",
   "execution_count": null,
   "metadata": {
    "pycharm": {
     "is_executing": true,
     "name": "#%%\n"
    }
   },
   "outputs": [],
   "source": [
    "test_it=DFVDSequence(X_test,y_test,test_video_per_batch,frames_per_video_per_batch)\n",
    "y_prob = model.evaluate_generator(test_it)\n",
    "print(y_prob)\n",
    "# y_classes = y_prob.argmax(axis=-1)\n",
    "# print(y_classes)"
   ]
  },
  {
   "cell_type": "code",
   "execution_count": null,
   "metadata": {},
   "outputs": [],
   "source": [
    "\n",
    "# model.fit_generator(generator=train_it, validation_data=val_it,epochs=150,initial_epoch=50,\n",
    "                    callbacks=callbacks_list,shuffle=False,class_weight=class_weights_train,verbose=1)"
   ]
  },
  {
   "cell_type": "code",
   "execution_count": null,
   "metadata": {},
   "outputs": [],
   "source": [
    "# _id = dt.now().strftime(\"%y-%m-%d-%H_%M\")\n",
    "# print(_id)"
   ]
  },
  {
   "cell_type": "code",
   "execution_count": null,
   "metadata": {},
   "outputs": [],
   "source": [
    "# model.fit_generator(generator=train_it, validation_data=val_it,epochs=300,initial_epoch=150,\n",
    "#                     callbacks=callbacks_list,shuffle=False,class_weight=class_weights_train,verbose=1)"
   ]
  },
  {
   "cell_type": "code",
   "execution_count": null,
   "metadata": {},
   "outputs": [],
   "source": [
    "_id = dt.now().strftime(\"%y-%m-%d-%H_%M\")\n",
    "save_dir=os.path.join(os.getcwd(),'models','Deepfakes','CLRNet50(bk)',_id)\n",
    "if not os.path.exists(save_dir):\n",
    "    os.makedirs(save_dir)"
   ]
  },
  {
   "cell_type": "code",
   "execution_count": null,
   "metadata": {},
   "outputs": [],
   "source": [
    "os.getcwd()"
   ]
  },
  {
   "cell_type": "code",
   "execution_count": null,
   "metadata": {},
   "outputs": [],
   "source": []
  }
 ],
 "metadata": {
  "kernelspec": {
   "display_name": "Python 3",
   "language": "python",
   "name": "python3"
  },
  "language_info": {
   "codemirror_mode": {
    "name": "ipython",
    "version": 3
   },
   "file_extension": ".py",
   "mimetype": "text/x-python",
   "name": "python",
   "nbconvert_exporter": "python",
   "pygments_lexer": "ipython3",
   "version": "3.7.7"
  },
  "pycharm": {
   "stem_cell": {
    "cell_type": "raw",
    "metadata": {
     "collapsed": false
    },
    "source": []
   }
  }
 },
 "nbformat": 4,
 "nbformat_minor": 1
}