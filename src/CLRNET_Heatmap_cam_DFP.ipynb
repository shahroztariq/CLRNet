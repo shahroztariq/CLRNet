{
 "cells": [
  {
   "cell_type": "markdown",
   "metadata": {
    "collapsed": true,
    "pycharm": {
     "name": "#%% md\n"
    }
   },
   "source": [
    "\n",
    "# Heatmap_cam_DFP\n"
   ]
  },
  {
   "cell_type": "code",
   "execution_count": 1,
   "metadata": {
    "pycharm": {
     "is_executing": false,
     "name": "#%%\n"
    }
   },
   "outputs": [],
   "source": [
    "\n",
    "\n",
    "from tensorflow.python.keras.backend import clear_session\n",
    "from tensorflow.python.keras.callbacks import ModelCheckpoint, CSVLogger\n",
    "from tensorflow.python.keras.utils.layer_utils import print_summary\n",
    "from tensorflow.python.keras.optimizers import Adam\n",
    "from tensorflow.python.keras.models import load_model, Model\n",
    "import numpy as np\n",
    "from CLRNet_convlstm import CLRNet\n",
    "from Utility_functions import create_sequence,FreezeBatchNormalization\n",
    "from datetime import datetime as dt\n",
    "from DFVDSequence import DFVDSequence\n",
    "import matplotlib.pyplot as plt\n",
    "print(\"yolo\")\n",
    "from sklearn.metrics import classification_report\n",
    "import pandas as pd\n",
    "# import shutil\n",
    "from tensorflow.python.keras import layers\n",
    "# from src.xception_convlstm import Xception\n",
    "# print(cv2.__version__)\n",
    "# import random\n",
    "# random.seed(32)\n",
    "\n",
    "dataset_dir='DeepFakeDatasetReal'\n",
    "# from src.cl_basic import cl_basic\n",
    "import ipykernel\n",
    "import os\n",
    "from sklearn.preprocessing import MinMaxScaler\n",
    "import tensorflow as tf\n",
    "from tensorflow.keras import backend as K\n",
    "os.environ[\"CUDA_DEVICE_ORDER\"]=\"PCI_BUS_ID\";\n",
    "import cv2\n",
    "import matplotlib.pyplot as plt\n",
    "\n",
    "# Choose GPU NUMBERS [0, 1, 2, 3]\n",
    "os.environ[\"CUDA_VISIBLE_DEVICES\"]=\"3\"\n",
    "config = tf.ConfigProto()\n",
    "config.gpu_options.allow_growth = True\n",
    "sess = tf.Session(config=config)\n",
    "K.set_session(sess)\n",
    "sess.run(tf.global_variables_initializer())"
   ]
  },
  {
   "cell_type": "code",
   "execution_count": 2,
   "metadata": {},
   "outputs": [],
   "source": [
    "model = load_model('models/transfer_NT-DF-FS-F2F-DFD/CLRNet/DF-FS-F2F-DFD/20-01-31-04_00/06-0.68.hdf5')"
   ]
  },
  {
   "cell_type": "code",
   "execution_count": 3,
   "metadata": {},
   "outputs": [],
   "source": [
    "is_training = False\n",
    "top_k_layers=120\n",
    "model,df=FreezeBatchNormalization(is_training,top_k_layers,model)\n",
    "adam_fine = Adam(lr=0.00005, beta_1=0.9, beta_2=0.999, epsilon=None, decay=0.0, amsgrad=False)\n",
    "weights = model.layers[-1].get_weights()[0]\n",
    "model2 = Model(inputs=model.inputs, outputs=[model.layers[-4].output, model.output])\n",
    "model.compile(loss='binary_crossentropy',\n",
    "                  optimizer=adam_fine,\n",
    "                  metrics=['accuracy'])\n",
    "print_summary(model, line_length=150, positions=None, print_fn=None)\n",
    "with pd.option_context('display.max_rows', None, 'display.max_columns', None):  # more options can be specified also\n",
    "    display(df)"
   ]
  },
  {
   "cell_type": "code",
   "execution_count": 4,
   "metadata": {},
   "outputs": [],
   "source": [
    "frames_per_video_per_batch=5\n",
    "frames_per_video=80\n",
    "image_size=240\n",
    "test_video_per_batch=1\n",
    "data_augmentation=False\n",
    "training=False\n",
    "X_DeepFake,y_DeepFake,class_weights_DeepFake=create_sequence(['datasets/DFP_new/test/'],frames_per_video_per_batch,frames_per_video)\n",
    "DeepFake_it=DFVDSequence(X_DeepFake,y_DeepFake,test_video_per_batch,frames_per_video_per_batch,image_size,data_augmentation,training)"
   ]
  },
  {
   "cell_type": "code",
   "execution_count": 14,
   "metadata": {},
   "outputs": [],
   "source": [
    "image_size=(240,240)\n",
    "\n",
    "it=DeepFake_it.__getitem__(1)\n",
    "\n",
    "fig=plt.figure(figsize=(30, 100))\n",
    "columns = 5\n",
    "rows = 1\n",
    "for i in range(5):\n",
    "    it_0=it[0]\n",
    "    weights = model.layers[-1].get_weights()[0]\n",
    "    wx=(weights[:,0]).reshape(2048,1)\n",
    "    [base_model_outputs, prediction] = model2.predict(it_0)\n",
    "\n",
    "    # prediction = prediction[0][0]\n",
    "    pred = np.argmax(prediction, axis=1)\n",
    "#     print (prediction,pred)\n",
    "    base_model_outputs = base_model_outputs[0][i]\n",
    "\n",
    "#     print(prediction,base_model_outputs.shape,it_0[0,i].shape,wx.shape)\n",
    "    fig.add_subplot(rows, columns, 1+i)\n",
    "    if pred == 0:\n",
    "        prediction=prediction[0][0]\n",
    "        plt.title('Fake %.2f%%' % (prediction*100))\n",
    "    else:\n",
    "        prediction=prediction[0][1]\n",
    "        plt.title('Real %.2f%%' % (prediction*100))\n",
    "\n",
    "    cam = (prediction) * np.matmul(base_model_outputs, wx)\n",
    "\n",
    "    cam -= cam.min()\n",
    "    cam /= cam.max()\n",
    "    cam -= 0.2\n",
    "    cam /= 0.8\n",
    "    img = cv2.resize(it_0[0,i], (it_0[0,i].shape[1], it_0[0,i].shape[0]))\n",
    "\n",
    "    img = np.asarray(img, np.float64)\n",
    "    cam = cv2.resize(cam, (240, 240))\n",
    "    heatmap = cv2.applyColorMap(np.uint8(255*cam), cv2.COLORMAP_JET)\n",
    "#     heatmap=heatmap[:,:,::-1]\n",
    "    heatmap[np.where(cam <= 0.00000001)] = 0\n",
    "    \n",
    "    # Get input size\n",
    "    width, height, _ = img.shape\n",
    "\n",
    "    # Desired \"pixelated\" size\n",
    "    w, h = (16, 16)\n",
    "\n",
    "    # Resize input to \"pixelated\" size\n",
    "#     img = cv2.resize(img, (w, h), interpolation=cv2.INTER_LINEAR)\n",
    "\n",
    "    # Initialize output image\n",
    "#     img = cv2.resize(img, (width, height), interpolation=cv2.INTER_NEAREST)\n",
    "    \n",
    "    out = cv2.addWeighted(img, 0.99, heatmap, 0.001, 0, dtype=cv2.CV_64F)\n",
    "    plt.imshow(out)\n",
    "plt.show()\n",
    "print(it[1][0])"
   ]
  },
  {
   "cell_type": "code",
   "execution_count": null,
   "metadata": {},
   "outputs": [],
   "source": []
  },
  {
   "cell_type": "code",
   "execution_count": null,
   "metadata": {},
   "outputs": [],
   "source": []
  },
  {
   "cell_type": "code",
   "execution_count": null,
   "metadata": {},
   "outputs": [],
   "source": []
  }
 ],
 "metadata": {
  "kernelspec": {
   "display_name": "Python 3",
   "language": "python",
   "name": "python3"
  },
  "language_info": {
   "codemirror_mode": {
    "name": "ipython",
    "version": 3
   },
   "file_extension": ".py",
   "mimetype": "text/x-python",
   "name": "python",
   "nbconvert_exporter": "python",
   "pygments_lexer": "ipython3",
   "version": "3.7.7"
  },
  "pycharm": {
   "stem_cell": {
    "cell_type": "raw",
    "metadata": {
     "collapsed": false
    },
    "source": []
   }
  }
 },
 "nbformat": 4,
 "nbformat_minor": 1
}