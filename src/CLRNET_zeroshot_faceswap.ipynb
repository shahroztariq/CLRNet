{
 "cells": [
  {
   "cell_type": "markdown",
   "metadata": {
    "collapsed": true,
    "pycharm": {
     "name": "#%% md\n"
    }
   },
   "source": [
    "\n",
    "# Import Python Packages\n"
   ]
  },
  {
   "cell_type": "code",
   "execution_count": 1,
   "metadata": {
    "pycharm": {
     "is_executing": false,
     "name": "#%%\n"
    }
   },
   "outputs": [],
   "source": [
    "from tensorflow.python.keras.backend import clear_session\n",
    "from tensorflow.python.keras.callbacks import ModelCheckpoint, CSVLogger\n",
    "from tensorflow.python.keras.utils.layer_utils import print_summary\n",
    "from tensorflow.python.keras.optimizers import Adam\n",
    "from tensorflow.python.keras.models import load_model\n",
    "import numpy as np\n",
    "from CLRNet_convlstm import CLRNet\n",
    "from Utility_functions import create_sequence\n",
    "from datetime import datetime as dt\n",
    "from DFVDSequence import DFVDSequence\n",
    "import matplotlib.pyplot as plt\n",
    "print(\"yolo\")\n",
    "from sklearn.metrics import classification_report\n",
    "\n",
    "# import shutil\n",
    "\n",
    "# from src.xception_convlstm import Xception\n",
    "# print(cv2.__version__)\n",
    "# import random\n",
    "# random.seed(32)\n",
    "\n",
    "dataset_dir='DeepFakeDatasetReal'\n",
    "# from src.cl_basic import cl_basic\n",
    "import ipykernel\n",
    "import os\n",
    "from sklearn.preprocessing import MinMaxScaler\n",
    "import tensorflow as tf\n",
    "from tensorflow.keras import backend as K\n",
    "os.environ[\"CUDA_DEVICE_ORDER\"]=\"PCI_BUS_ID\";\n",
    " \n",
    "# Choose GPU NUMBERS [0, 1, 2, 3]\n",
    "os.environ[\"CUDA_VISIBLE_DEVICES\"]=\"0\"\n",
    "config = tf.ConfigProto()\n",
    "config.gpu_options.allow_growth = True\n",
    "sess = tf.Session(config=config)\n",
    "K.set_session(sess)\n",
    "sess.run(tf.global_variables_initializer())"
   ]
  },
  {
   "cell_type": "markdown",
   "metadata": {},
   "source": [
    "# Load Validation Dataset for rechecking accuracy"
   ]
  },
  {
   "cell_type": "code",
   "execution_count": 2,
   "metadata": {
    "pycharm": {
     "is_executing": false,
     "name": "#%% \n"
    }
   },
   "outputs": [],
   "source": [
    "frames_per_video_per_batch=5\n",
    "frames_per_video=80\n",
    "image_size=240\n",
    "test_video_per_batch=16\n",
    "data_augmentation=False\n",
    "X_FaceSwap,y_FaceSwap,class_weights_FaceSwap=create_sequence('datasets/FaceSwap/val/',frames_per_video_per_batch,frames_per_video)\n",
    "FaceSwap_it=DFVDSequence(X_FaceSwap,y_FaceSwap,test_video_per_batch,frames_per_video_per_batch,image_size,data_augmentation)"
   ]
  },
  {
   "cell_type": "code",
   "execution_count": 3,
   "metadata": {},
   "outputs": [],
   "source": [
    "fig=plt.figure(figsize=(10, 100))\n",
    "columns = 5\n",
    "rows = 40\n",
    "\n",
    "print(\"FaceSwap\")\n",
    "x=1\n",
    "temp=FaceSwap_it.__getitem__(1)\n",
    "fig.add_subplot(rows, columns, x)\n",
    "plt.imshow(np.array(temp[0][0,0]))\n",
    "fig.add_subplot(rows, columns, x+1)\n",
    "plt.imshow(np.array(temp[0][0,1]))\n",
    "fig.add_subplot(rows, columns, x+2)\n",
    "plt.imshow(np.array(temp[0][0,2]))\n",
    "fig.add_subplot(rows, columns, x+3)\n",
    "plt.imshow(np.array(temp[0][0,3]))\n",
    "fig.add_subplot(rows, columns, x+4)\n",
    "plt.imshow(np.array(temp[0][0,4]))\n",
    "print(\"Min:\",np.array(temp[0][0,0]).min(),\"Max:\",np.array(temp[0][0,0]).max())\n",
    "fig.add_subplot(rows, columns, x+5)\n",
    "plt.imshow(np.array(temp[0][3,0]))\n",
    "fig.add_subplot(rows, columns, x+6)\n",
    "plt.imshow(np.array(temp[0][3,1]))\n",
    "fig.add_subplot(rows, columns, x+7)\n",
    "plt.imshow(np.array(temp[0][3,2]))\n",
    "fig.add_subplot(rows, columns, x+8)\n",
    "plt.imshow(np.array(temp[0][3,3]))\n",
    "fig.add_subplot(rows, columns, x+9)\n",
    "plt.imshow(np.array(temp[0][3,4]))\n",
    "print(\"Min:\",np.array(temp[0][1,0]).min(),\"Max:\",np.array(temp[0][1,0]).max())\n",
    "print(temp[0].shape,temp[1].shape,FaceSwap_it.dataset_size,FaceSwap_it.frame_counter,FaceSwap_it.__len__(),temp[1][0],temp[1][1])\n",
    "plt.title(\"Training Set Examples\")        \n",
    "plt.show()\n",
    "FaceSwap_it.on_epoch_end()"
   ]
  },
  {
   "cell_type": "markdown",
   "metadata": {},
   "source": [
    "# Load Model"
   ]
  },
  {
   "cell_type": "code",
   "execution_count": 4,
   "metadata": {
    "pycharm": {
     "is_executing": false,
     "name": "#%% \n"
    }
   },
   "outputs": [],
   "source": [
    "model = load_model('models/FaceSwap/CLRNet50(bk)/19-12-17-10_03/CLRNet50(bk)_19-12-17-10_03-130-0.99.hdf5')\n",
    "model.summary()\n",
    "adam_fine = Adam(lr=0.00005, beta_1=0.9, beta_2=0.999, epsilon=None, decay=0.0, amsgrad=False)\n",
    "model.compile(loss='binary_crossentropy', optimizer=adam_fine, metrics=['accuracy'])"
   ]
  },
  {
   "cell_type": "code",
   "execution_count": 5,
   "metadata": {},
   "outputs": [],
   "source": [
    "predictions = model.predict_generator(FaceSwap_it, verbose=1)\n",
    "predicted_classes = np.argmax(predictions, axis=1)\n",
    "true_classes = FaceSwap_it.pre_classes"
   ]
  },
  {
   "cell_type": "code",
   "execution_count": 6,
   "metadata": {},
   "outputs": [],
   "source": [
    "# class_labels = list(FaceSwap_it.class_indices.keys()) \n",
    "report = classification_report(true_classes, predicted_classes, digits=4)\n",
    "print(report)"
   ]
  },
  {
   "cell_type": "code",
   "execution_count": null,
   "metadata": {},
   "outputs": [],
   "source": [
    "# %load_ext autoreload\n",
    "# %autoreload 2"
   ]
  },
  {
   "cell_type": "code",
   "execution_count": 6,
   "metadata": {},
   "outputs": [],
   "source": [
    "\n",
    "print(FaceSwap_it.pre_classes)\n",
    "# print(len(predictions))\n",
    "# print(len(y_FaceSwap))"
   ]
  },
  {
   "cell_type": "markdown",
   "metadata": {},
   "source": [
    "# DeepFakes Test"
   ]
  },
  {
   "cell_type": "markdown",
   "metadata": {},
   "source": [
    "### Load DeepFakes Test Dataset"
   ]
  },
  {
   "cell_type": "code",
   "execution_count": 7,
   "metadata": {},
   "outputs": [],
   "source": [
    "frames_per_video_per_batch=5\n",
    "frames_per_video=80\n",
    "image_size=240\n",
    "test_video_per_batch=16\n",
    "data_augmentation=False\n",
    "X_DeepFake,y_DeepFake,class_weights_DeepFake=create_sequence('datasets/Deepfakes/test/',frames_per_video_per_batch,frames_per_video)\n",
    "DeepFake_it=DFVDSequence(X_DeepFake,y_DeepFake,test_video_per_batch,frames_per_video_per_batch,image_size,data_augmentation)"
   ]
  },
  {
   "cell_type": "markdown",
   "metadata": {},
   "source": [
    "### Predict DeepFakes"
   ]
  },
  {
   "cell_type": "code",
   "execution_count": 8,
   "metadata": {},
   "outputs": [],
   "source": [
    "predictions = model.predict_generator(DeepFake_it, verbose=1)\n",
    "predicted_classes = np.argmax(predictions, axis=1)\n",
    "true_classes = DeepFake_it.pre_classes\n",
    "# class_labels = list(DeepFake_it.class_indices.keys()) \n",
    "report = classification_report(true_classes, predicted_classes,  digits=4)\n",
    "print(report)"
   ]
  },
  {
   "cell_type": "markdown",
   "metadata": {},
   "source": [
    "# FaceSwap Test"
   ]
  },
  {
   "cell_type": "markdown",
   "metadata": {},
   "source": [
    "### Load FaceSwap Test Dataset"
   ]
  },
  {
   "cell_type": "code",
   "execution_count": 9,
   "metadata": {},
   "outputs": [],
   "source": [
    "frames_per_video_per_batch=5\n",
    "frames_per_video=80\n",
    "image_size=240\n",
    "test_video_per_batch=16\n",
    "data_augmentation=False\n",
    "\n",
    "X_FaceSwap,y_FaceSwap,class_weights_FaceSwap=create_sequence('datasets/FaceSwap/test/',frames_per_video_per_batch,frames_per_video)\n",
    "FaceSwap_it=DFVDSequence(X_FaceSwap,y_FaceSwap,test_video_per_batch,frames_per_video_per_batch,image_size,data_augmentation)\n"
   ]
  },
  {
   "cell_type": "markdown",
   "metadata": {},
   "source": [
    "### Predict FaceSwap"
   ]
  },
  {
   "cell_type": "code",
   "execution_count": 10,
   "metadata": {},
   "outputs": [],
   "source": [
    "predictions = model.predict_generator(FaceSwap_it, verbose=1)\n",
    "predicted_classes = np.argmax(predictions, axis=1)\n",
    "true_classes = FaceSwap_it.pre_classes\n",
    "# class_labels = list(FaceSwap_it.class_indices.keys()) \n",
    "report = classification_report(true_classes, predicted_classes, digits=4)\n",
    "print(report)"
   ]
  },
  {
   "cell_type": "markdown",
   "metadata": {},
   "source": [
    "# Face2Face Test"
   ]
  },
  {
   "cell_type": "markdown",
   "metadata": {},
   "source": [
    "### Load Face2Face Test Dataset"
   ]
  },
  {
   "cell_type": "code",
   "execution_count": 11,
   "metadata": {},
   "outputs": [],
   "source": [
    "frames_per_video_per_batch=5\n",
    "frames_per_video=80\n",
    "image_size=240\n",
    "test_video_per_batch=16\n",
    "data_augmentation=False\n",
    "X_Face2Face,y_Face2Face,class_weights_Face2Face=create_sequence('datasets/Face2Face/test/',frames_per_video_per_batch,frames_per_video)\n",
    "Face2Face_it=DFVDSequence(X_Face2Face,y_Face2Face,test_video_per_batch,frames_per_video_per_batch,image_size,data_augmentation)"
   ]
  },
  {
   "cell_type": "markdown",
   "metadata": {},
   "source": [
    "### Predict Face2Face"
   ]
  },
  {
   "cell_type": "code",
   "execution_count": 12,
   "metadata": {},
   "outputs": [],
   "source": [
    "predictions = model.predict_generator(Face2Face_it, verbose=1)\n",
    "predicted_classes = np.argmax(predictions, axis=1)\n",
    "true_classes = Face2Face_it.pre_classes\n",
    "# class_labels = list(Face2Face_it.class_indices.keys()) \n",
    "report = classification_report(true_classes, predicted_classes, digits=4)\n",
    "print(report)"
   ]
  }
 ],
 "metadata": {
  "kernelspec": {
   "display_name": "Python 3",
   "language": "python",
   "name": "python3"
  },
  "language_info": {
   "codemirror_mode": {
    "name": "ipython",
    "version": 3
   },
   "file_extension": ".py",
   "mimetype": "text/x-python",
   "name": "python",
   "nbconvert_exporter": "python",
   "pygments_lexer": "ipython3",
   "version": "3.7.5"
  },
  "pycharm": {
   "stem_cell": {
    "cell_type": "raw",
    "metadata": {
     "collapsed": false
    },
    "source": []
   }
  }
 },
 "nbformat": 4,
 "nbformat_minor": 1
}